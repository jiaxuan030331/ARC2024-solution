{
  "cells": [
    {
      "cell_type": "raw",
      "metadata": {
        "vscode": {
          "languageId": "raw"
        }
      },
      "source": [
        "# ARC DAG Solver Fallback Demo\n",
        "\n",
        "本demo展示一个具体案例：\n",
        "1. **专用solvers失败**：Repeating, Chess, Tiling等solver都无法解决\n",
        "2. **置信度检查**：专用solver分数低于阈值\n",
        "3. **DAG Fallback启动**：使用2层深度搜索\n",
        "4. **成功解决**：DAG找到正确的变换序列\n",
        "\n",
        "---\n"
      ]
    },
    {
      "cell_type": "code",
      "execution_count": 2,
      "metadata": {},
      "outputs": [
        {
          "ename": "NameError",
          "evalue": "name '__file__' is not defined",
          "output_type": "error",
          "traceback": [
            "\u001b[31m---------------------------------------------------------------------------\u001b[39m",
            "\u001b[31mNameError\u001b[39m                                 Traceback (most recent call last)",
            "\u001b[36mCell\u001b[39m\u001b[36m \u001b[39m\u001b[32mIn[2]\u001b[39m\u001b[32m, line 13\u001b[39m\n\u001b[32m      8\u001b[39m \u001b[38;5;28;01mimport\u001b[39;00m\u001b[38;5;250m \u001b[39m\u001b[34;01mtime\u001b[39;00m\n\u001b[32m     10\u001b[39m \u001b[38;5;66;03m# 导入项目模块\u001b[39;00m\n\u001b[32m     11\u001b[39m \u001b[38;5;66;03m# 解决 ImportError: attempted relative import beyond top-level package\u001b[39;00m\n\u001b[32m     12\u001b[39m \u001b[38;5;66;03m# 采用绝对路径导入，假设 arc_solver 是顶层包\u001b[39;00m\n\u001b[32m---> \u001b[39m\u001b[32m13\u001b[39m sys.path.append(os.path.abspath(os.path.join(os.path.dirname(\u001b[34;43m__file__\u001b[39;49m), \u001b[33m'\u001b[39m\u001b[33m..\u001b[39m\u001b[33m'\u001b[39m)))\n\u001b[32m     14\u001b[39m \u001b[38;5;28;01mtry\u001b[39;00m:\n\u001b[32m     15\u001b[39m     \u001b[38;5;28;01mfrom\u001b[39;00m\u001b[38;5;250m \u001b[39m\u001b[34;01marc_solver\u001b[39;00m\u001b[34;01m.\u001b[39;00m\u001b[34;01mcore\u001b[39;00m\u001b[34;01m.\u001b[39;00m\u001b[34;01msolver\u001b[39;00m\u001b[38;5;250m \u001b[39m\u001b[38;5;28;01mimport\u001b[39;00m ArcSolver\n",
            "\u001b[31mNameError\u001b[39m: name '__file__' is not defined"
          ]
        }
      ],
      "source": [
        "import sys\n",
        "import os\n",
        "import numpy as np\n",
        "import matplotlib.pyplot as plt\n",
        "import matplotlib.patches as mpatches\n",
        "from matplotlib.colors import ListedColormap\n",
        "import json\n",
        "import time\n",
        "\n",
        "# 导入项目模块\n",
        "# 解决 ImportError: attempted relative import beyond top-level package\n",
        "# 采用绝对路径导入，假设 arc_solver 是顶层包\n",
        "sys.path.append(os.path.abspath(os.path.join(os.path.dirname(__file__), '..')))\n",
        "try:\n",
        "    from arc_solver.core.solver import ArcSolver\n",
        "    from arc_solver.core.config import SolverConfig\n",
        "    from arc_solver.data.task import Task\n",
        "    print(\"✅ 模块导入成功 (arc_solver.*)\")\n",
        "except ImportError as e:\n",
        "    print(\"❌ 模块导入失败:\", e)\n",
        "    print(\"请检查 arc_solver 包的路径和结构。\")\n"
      ]
    },
    {
      "cell_type": "raw",
      "metadata": {
        "vscode": {
          "languageId": "raw"
        }
      },
      "source": [
        "## 1. 准备测试案例\n",
        "\n",
        "选择一个需要多步变换的复杂任务\n"
      ]
    },
    {
      "cell_type": "code",
      "execution_count": null,
      "metadata": {},
      "outputs": [],
      "source": [
        "# ARC色彩映射（与标准ARC一致）\n",
        "colors = ['#000000', '#0074D9', '#FF4136', '#2ECC40', '#FFDC00', \n",
        "          '#AAAAAA', '#F012BE', '#FF851B', '#7FDBFF', '#870C25']\n",
        "cmap = ListedColormap(colors)\n",
        "\n",
        "def plot_grid(grid, title=\"Grid\", ax=None):\n",
        "    \"\"\"绘制ARC网格，复用main.ipynb的可视化逻辑\"\"\"\n",
        "    if ax is None:\n",
        "        fig, ax = plt.subplots(1, 1, figsize=(6, 6))\n",
        "    \n",
        "    im = ax.imshow(grid, cmap=cmap, vmin=0, vmax=9)\n",
        "    ax.set_title(title, fontsize=14, fontweight='bold')\n",
        "    ax.set_xticks([])\n",
        "    ax.set_yticks([])\n",
        "    \n",
        "    # 添加网格线\n",
        "    h, w = grid.shape\n",
        "    for i in range(h + 1):\n",
        "        ax.axhline(i - 0.5, color='black', linewidth=0.5)\n",
        "    for j in range(w + 1):\n",
        "        ax.axvline(j - 0.5, color='black', linewidth=0.5)\n",
        "    \n",
        "    return ax\n",
        "\n",
        "def plot_task(task, title=\"ARC Task\"):\n",
        "    \"\"\"可视化完整的ARC任务\"\"\"\n",
        "    num_examples = len(task.train)\n",
        "    fig, axes = plt.subplots(2, num_examples + 1, figsize=(4 * (num_examples + 1), 8))\n",
        "    \n",
        "    # 训练样例\n",
        "    for i, example in enumerate(task.train):\n",
        "        plot_grid(example.input, f\"训练输入 {i+1}\", axes[0, i])\n",
        "        plot_grid(example.output, f\"训练输出 {i+1}\", axes[1, i])\n",
        "    \n",
        "    # 测试样例\n",
        "    plot_grid(task.test[0], \"测试输入\", axes[0, -1])\n",
        "    axes[1, -1].text(0.5, 0.5, '?', ha='center', va='center', \n",
        "                     fontsize=48, transform=axes[1, -1].transAxes)\n",
        "    axes[1, -1].set_title(\"测试输出 (待求解)\", fontsize=14, fontweight='bold')\n",
        "    axes[1, -1].set_xticks([])\n",
        "    axes[1, -1].set_yticks([])\n",
        "    \n",
        "    plt.suptitle(title, fontsize=16, fontweight='bold')\n",
        "    plt.tight_layout()\n",
        "    return fig\n",
        "\n",
        "print(\"✅ 可视化函数准备完成\")\n"
      ]
    },
    {
      "cell_type": "code",
      "execution_count": null,
      "metadata": {},
      "outputs": [],
      "source": [
        "# 创建一个需要多步变换的测试任务\n",
        "# 规律：输入矩阵 → 转置 → 颜色映射 → 输出\n",
        "demo_task_data = {\n",
        "    \"task_id\": \"demo_task\",\n",
        "    \"train\": [\n",
        "        {\n",
        "            \"input\": [\n",
        "                [1, 0, 2],\n",
        "                [0, 1, 0],\n",
        "                [2, 0, 1]\n",
        "            ],\n",
        "            \"output\": [\n",
        "                [3, 0, 4],\n",
        "                [0, 3, 0], \n",
        "                [4, 0, 3]\n",
        "            ]\n",
        "        },\n",
        "        {\n",
        "            \"input\": [\n",
        "                [2, 1, 0],\n",
        "                [1, 2, 1],\n",
        "                [0, 1, 2]\n",
        "            ],\n",
        "            \"output\": [\n",
        "                [4, 3, 0],\n",
        "                [3, 4, 3],\n",
        "                [0, 3, 4]\n",
        "            ]\n",
        "        }\n",
        "    ],\n",
        "    \"test\": [\n",
        "        [\n",
        "            [0, 2, 1],\n",
        "            [2, 0, 2],\n",
        "            [1, 2, 0]\n",
        "        ]\n",
        "    ]\n",
        "}\n",
        "\n",
        "# 导入TaskLoader\n",
        "from data.task import TaskLoader\n",
        "\n",
        "# 转换为Task对象\n",
        "demo_task = TaskLoader.from_json(demo_task_data)\n",
        "\n",
        "# 可视化任务\n",
        "plot_task(demo_task, \"Demo Task: 需要多步变换的复杂任务\")\n",
        "plt.show()\n",
        "\n",
        "print(\"📋 任务规律提示：输入→转置→颜色映射(1→3, 2→4)→输出\")\n",
        "print(\"🎯 这需要2步变换，单一专用solver难以处理\")\n"
      ]
    },
    {
      "cell_type": "raw",
      "metadata": {
        "vscode": {
          "languageId": "raw"
        }
      },
      "source": [
        "## 2. 配置ARC Solver\n",
        "\n",
        "设置不同的置信度阈值来演示fallback机制\n"
      ]
    },
    {
      "cell_type": "code",
      "execution_count": null,
      "metadata": {},
      "outputs": [],
      "source": [
        "# 配置1：高阈值，确保触发DAG fallback\n",
        "config_high_threshold = SolverConfig()\n",
        "config_high_threshold.dag_high_confidence_threshold = 25.0  # 很高的阈值\n",
        "config_high_threshold.dag_max_depth = 2\n",
        "config_high_threshold.dag_enable_logging = True\n",
        "config_high_threshold.max_candidates = 3\n",
        "\n",
        "# 配置2：低阈值，专用solver优先\n",
        "config_low_threshold = SolverConfig()\n",
        "config_low_threshold.dag_high_confidence_threshold = 5.0   # 很低的阈值\n",
        "config_low_threshold.dag_max_depth = 2\n",
        "config_low_threshold.dag_enable_logging = True\n",
        "config_low_threshold.max_candidates = 3\n",
        "\n",
        "print(\"⚙️ Solver配置完成\")\n",
        "print(f\"   高阈值配置: {config_high_threshold.dag_high_confidence_threshold}\")\n",
        "print(f\"   低阈值配置: {config_low_threshold.dag_high_confidence_threshold}\")\n"
      ]
    },
    {
      "cell_type": "raw",
      "metadata": {
        "vscode": {
          "languageId": "raw"
        }
      },
      "source": [
        "## 3. 求解过程对比\n",
        "\n",
        "展示不同阈值下的求解结果，重点观察DAG fallback的触发\n"
      ]
    },
    {
      "cell_type": "code",
      "execution_count": null,
      "metadata": {},
      "outputs": [],
      "source": [
        "def solve_with_detailed_logging(config, title):\n",
        "    \"\"\"详细记录求解过程\"\"\"\n",
        "    print(f\"\\n🚀 {title}\")\n",
        "    print(\"=\" * 60)\n",
        "    \n",
        "    solver = ArcSolver(config=config)\n",
        "    \n",
        "    start_time = time.time()\n",
        "    result = solver.solve(demo_task)\n",
        "    total_time = time.time() - start_time\n",
        "    \n",
        "    print(f\"\\n📊 求解结果:\")\n",
        "    print(f\"   总耗时: {total_time:.3f}s\")\n",
        "    print(f\"   预测数: {len(result.predictions)}\")\n",
        "    print(f\"   使用fallback: {result.used_fallback}\")\n",
        "    print(f\"   主要来源: {result.metadata.get('primary_source', 'unknown')}\")\n",
        "    print(f\"   专用solver最高分: {result.metadata.get('specialist_max_score', 0):.1f}\")\n",
        "    print(f\"   DAG solver最高分: {result.metadata.get('dag_max_score', 0):.1f}\")\n",
        "    print(f\"   置信度阈值: {result.metadata.get('high_confidence_threshold', 0):.1f}\")\n",
        "    \n",
        "    return result\n",
        "\n",
        "# 测试低阈值配置\n",
        "print(\"第一轮测试：低阈值配置 (专用solver优先)\")\n",
        "result_low = solve_with_detailed_logging(config_low_threshold, \"低阈值配置 (专用solver优先)\")\n",
        "\n",
        "# 测试高阈值配置  \n",
        "print(\"\\n\" + \"=\"*80)\n",
        "print(\"第二轮测试：高阈值配置 (触发DAG fallback)\")\n",
        "result_high = solve_with_detailed_logging(config_high_threshold, \"高阈值配置 (触发DAG fallback)\")\n"
      ]
    },
    {
      "cell_type": "raw",
      "metadata": {
        "vscode": {
          "languageId": "raw"
        }
      },
      "source": [
        "## 4. 结果可视化对比\n",
        "\n",
        "展示不同策略的求解结果\n"
      ]
    },
    {
      "cell_type": "code",
      "execution_count": null,
      "metadata": {},
      "outputs": [],
      "source": [
        "def visualize_results(result, title):\n",
        "    \"\"\"可视化求解结果\"\"\"\n",
        "    if not result.predictions:\n",
        "        print(f\"❌ {title}: 无预测结果\")\n",
        "        return\n",
        "    \n",
        "    num_predictions = len(result.predictions)\n",
        "    fig, axes = plt.subplots(1, num_predictions + 1, figsize=(4 * (num_predictions + 1), 4))\n",
        "    \n",
        "    if num_predictions == 1:\n",
        "        axes = [axes]\n",
        "    \n",
        "    # 显示测试输入\n",
        "    plot_grid(demo_task.test[0], \"测试输入\", axes[0])\n",
        "    \n",
        "    # 显示预测结果\n",
        "    for i, prediction in enumerate(result.predictions):\n",
        "        score = result.scores[i] if i < len(result.scores) else 0\n",
        "        plot_grid(prediction, f\"预测 {i+1}\\n得分: {score:.1f}\", axes[i+1])\n",
        "    \n",
        "    plt.suptitle(title, fontsize=14, fontweight='bold')\n",
        "    plt.tight_layout()\n",
        "    return fig\n",
        "\n",
        "# 可视化两种配置的结果\n",
        "print(\"🎨 结果可视化\")\n",
        "visualize_results(result_low, \"低阈值结果 (专用solver优先)\")\n",
        "plt.show()\n",
        "\n",
        "visualize_results(result_high, \"高阈值结果 (DAG fallback)\")\n",
        "plt.show()\n"
      ]
    },
    {
      "cell_type": "raw",
      "metadata": {
        "vscode": {
          "languageId": "raw"
        }
      },
      "source": [
        "## 5. DAG搜索过程可视化\n",
        "\n",
        "模拟展示DAG的2层搜索树\n"
      ]
    },
    {
      "cell_type": "code",
      "execution_count": null,
      "metadata": {},
      "outputs": [],
      "source": [
        "import matplotlib.lines as mlines\n",
        "from matplotlib.patches import Circle\n",
        "\n",
        "def visualize_dag_search():\n",
        "    \"\"\"可视化DAG搜索树结构\"\"\"\n",
        "    fig, ax = plt.subplots(1, 1, figsize=(12, 8))\n",
        "    \n",
        "    # 节点位置\n",
        "    positions = {\n",
        "        'input': (6, 7),\n",
        "        'transpose': (3, 5),\n",
        "        'flipH': (6, 5), \n",
        "        'flipV': (9, 5),\n",
        "        'colorMap_1': (2, 3),\n",
        "        'colorMap_2': (4, 3),\n",
        "        'identity': (8, 3),\n",
        "        'final': (6, 1)\n",
        "    }\n",
        "    \n",
        "    # 绘制节点\n",
        "    for node, (x, y) in positions.items():\n",
        "        if node == 'input':\n",
        "            color = 'lightblue'\n",
        "        elif node == 'final':\n",
        "            color = 'lightgreen'\n",
        "        else:\n",
        "            color = 'lightcoral'\n",
        "            \n",
        "        circle = Circle((x, y), 0.4, color=color, ec='black', linewidth=2)\n",
        "        ax.add_patch(circle)\n",
        "        ax.text(x, y, node.replace('_', '\\n'), ha='center', va='center', \n",
        "                fontsize=8, fontweight='bold')\n",
        "    \n",
        "    # 绘制连接线\n",
        "    connections = [\n",
        "        ('input', 'transpose'),\n",
        "        ('input', 'flipH'),\n",
        "        ('input', 'flipV'),\n",
        "        ('transpose', 'colorMap_1'),\n",
        "        ('transpose', 'colorMap_2'),\n",
        "        ('flipV', 'identity'),\n",
        "        ('colorMap_1', 'final'),\n",
        "        ('colorMap_2', 'final')\n",
        "    ]\n",
        "    \n",
        "    for start, end in connections:\n",
        "        x1, y1 = positions[start]\n",
        "        x2, y2 = positions[end]\n",
        "        \n",
        "        # 成功路径用绿色，其他用灰色\n",
        "        if (start, end) in [('input', 'transpose'), ('transpose', 'colorMap_1'), ('colorMap_1', 'final')]:\n",
        "            color = 'green'\n",
        "            linewidth = 3\n",
        "        else:\n",
        "            color = 'gray'\n",
        "            linewidth = 1\n",
        "            \n",
        "        ax.plot([x1, x2], [y1, y2], color=color, linewidth=linewidth, alpha=0.7)\n",
        "        \n",
        "        # 添加箭头\n",
        "        dx, dy = x2 - x1, y2 - y1\n",
        "        ax.annotate('', xy=(x2, y2), xytext=(x1, y1),\n",
        "                   arrowprops=dict(arrowstyle='->', color=color, lw=linewidth))\n",
        "    \n",
        "    # 添加层级标签\n",
        "    ax.text(0.5, 7, 'Layer 0\\n(Input)', ha='center', va='center', \n",
        "            fontsize=12, fontweight='bold', bbox=dict(boxstyle='round', facecolor='wheat'))\n",
        "    ax.text(0.5, 5, 'Layer 1\\n(Transform)', ha='center', va='center',\n",
        "            fontsize=12, fontweight='bold', bbox=dict(boxstyle='round', facecolor='wheat'))\n",
        "    ax.text(0.5, 3, 'Layer 2\\n(Transform)', ha='center', va='center',\n",
        "            fontsize=12, fontweight='bold', bbox=dict(boxstyle='round', facecolor='wheat'))\n",
        "    ax.text(0.5, 1, 'Output', ha='center', va='center',\n",
        "            fontsize=12, fontweight='bold', bbox=dict(boxstyle='round', facecolor='wheat'))\n",
        "    \n",
        "    # 图例\n",
        "    legend_elements = [\n",
        "        mlines.Line2D([0], [0], color='green', lw=3, label='成功路径'),\n",
        "        mlines.Line2D([0], [0], color='gray', lw=1, label='探索路径'),\n",
        "        mpatches.Circle((0, 0), 0.1, facecolor='lightblue', label='输入'),\n",
        "        mpatches.Circle((0, 0), 0.1, facecolor='lightcoral', label='变换函数'),\n",
        "        mpatches.Circle((0, 0), 0.1, facecolor='lightgreen', label='输出')\n",
        "    ]\n",
        "    ax.legend(handles=legend_elements, loc='upper right')\n",
        "    \n",
        "    ax.set_xlim(-1, 11)\n",
        "    ax.set_ylim(0, 8)\n",
        "    ax.set_aspect('equal')\n",
        "    ax.set_title('DAG搜索树 (深度=2)\\n成功路径: Input → Transpose → ColorMap → Output', \n",
        "                fontsize=14, fontweight='bold')\n",
        "    ax.axis('off')\n",
        "    \n",
        "    return fig\n",
        "\n",
        "visualize_dag_search()\n",
        "plt.show()\n",
        "\n",
        "print(\"🌳 DAG搜索说明:\")\n",
        "print(\"   • 绿色路径: 成功的变换序列\")\n",
        "print(\"   • 灰色路径: 被探索但未成功的路径\")\n",
        "print(\"   • 深度限制为2层，避免过度搜索\")\n",
        "print(\"   • DAG结构避免重复计算相同的中间状态\")\n"
      ]
    },
    {
      "cell_type": "raw",
      "metadata": {
        "vscode": {
          "languageId": "raw"
        }
      },
      "source": [
        "## 6. 总结与对比\n",
        "\n",
        "展示DAG fallback机制的价值\n"
      ]
    },
    {
      "cell_type": "code",
      "execution_count": null,
      "metadata": {},
      "outputs": [],
      "source": [
        "print(\"📊 DAG Fallback Demo 总结\")\n",
        "print(\"=\" * 60)\n",
        "\n",
        "# 对比结果\n",
        "comparison_data = {\n",
        "    '配置': ['低阈值 (专用优先)', '高阈值 (DAG fallback)'],\n",
        "    '使用DAG': [result_low.used_fallback, result_high.used_fallback],\n",
        "    '预测数': [len(result_low.predictions), len(result_high.predictions)],\n",
        "    '专用最高分': [result_low.metadata.get('specialist_max_score', 0), \n",
        "                  result_high.metadata.get('specialist_max_score', 0)],\n",
        "    'DAG最高分': [result_low.metadata.get('dag_max_score', 0),\n",
        "                 result_high.metadata.get('dag_max_score', 0)]\n",
        "}\n",
        "\n",
        "print(\"\\n📈 性能对比:\")\n",
        "for key, values in comparison_data.items():\n",
        "    print(f\"   {key:12}: {values[0]:>15} | {values[1]:>15}\")\n",
        "\n",
        "print(\"\\n🎯 关键发现:\")\n",
        "if result_high.used_fallback and len(result_high.predictions) > 0:\n",
        "    print(\"   ✅ DAG fallback成功解决了专用solver无法处理的复杂任务\")\n",
        "    print(\"   ✅ 通过2层搜索找到了正确的变换序列\")\n",
        "    print(\"   ✅ 置信度阈值机制确保了资源的高效利用\")\n",
        "else:\n",
        "    print(\"   ⚠️  当前测试案例可能需要调整以更好展示DAG优势\")\n",
        "\n",
        "print(\"\\n🔧 应用价值:\")\n",
        "print(\"   • DAG适合处理需要多步变换的复杂任务\")\n",
        "print(\"   • Fallback机制避免不必要的计算开销\")\n",
        "print(\"   • 搜索深度限制确保实时性能\")\n",
        "print(\"   • 适合作为其他solver的智能补充\")\n",
        "\n",
        "print(\"\\n\" + \"=\" * 60)\n",
        "print(\"🎉 Demo完成！\")\n"
      ]
    },
    {
      "cell_type": "raw",
      "metadata": {
        "vscode": {
          "languageId": "raw"
        }
      },
      "source": [
        "## 5. DAG搜索过程可视化\n",
        "\n",
        "模拟展示DAG的2层搜索树\n"
      ]
    },
    {
      "cell_type": "raw",
      "metadata": {
        "vscode": {
          "languageId": "raw"
        }
      },
      "source": [
        "## 4. 结果可视化对比\n",
        "\n",
        "展示不同策略的求解结果\n"
      ]
    }
  ],
  "metadata": {
    "kernelspec": {
      "display_name": "arc_solver_env",
      "language": "python",
      "name": "python3"
    },
    "language_info": {
      "codemirror_mode": {
        "name": "ipython",
        "version": 3
      },
      "file_extension": ".py",
      "mimetype": "text/x-python",
      "name": "python",
      "nbconvert_exporter": "python",
      "pygments_lexer": "ipython3",
      "version": "3.13.3"
    }
  },
  "nbformat": 4,
  "nbformat_minor": 2
}
